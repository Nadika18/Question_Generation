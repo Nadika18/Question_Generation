{
  "nbformat": 4,
  "nbformat_minor": 0,
  "metadata": {
    "colab": {
      "provenance": [],
      "gpuType": "T4"
    },
    "kernelspec": {
      "name": "python3",
      "display_name": "Python 3"
    },
    "language_info": {
      "name": "python"
    },
    "accelerator": "GPU"
  },
  "cells": [
    {
      "cell_type": "code",
      "execution_count": null,
      "metadata": {
        "colab": {
          "base_uri": "https://localhost:8080/"
        },
        "id": "hh5jNZDO9tNi",
        "outputId": "ea2a0c94-0efc-44fe-eb39-87d18a0a5193"
      },
      "outputs": [
        {
          "output_type": "stream",
          "name": "stdout",
          "text": [
            "Drive already mounted at /content/gdrive; to attempt to forcibly remount, call drive.mount(\"/content/gdrive\", force_remount=True).\n"
          ]
        }
      ],
      "source": [
        "from google.colab import drive\n",
        "drive.mount('/content/gdrive')"
      ]
    },
    {
      "cell_type": "code",
      "source": [
        "from nltk import sent_tokenize\n",
        "import torch\n",
        "from transformers import(\n",
        "    AutoModelForSeq2SeqLM,\n",
        "    AutoTokenizer,\n",
        "    PreTrainedModel,\n",
        "    PreTrainedTokenizer,\n",
        "     T5Tokenizer, T5ForConditionalGeneration, Trainer, TrainingArguments\n",
        ")\n"
      ],
      "metadata": {
        "id": "U98vIQmV-H2z"
      },
      "execution_count": null,
      "outputs": []
    },
    {
      "cell_type": "code",
      "source": [
        "# !pip install datasets"
      ],
      "metadata": {
        "id": "odOggjHnFbMD"
      },
      "execution_count": null,
      "outputs": []
    },
    {
      "cell_type": "code",
      "source": [
        "# !pip install transformers[torch]"
      ],
      "metadata": {
        "id": "rmPTDbz-Fdx4"
      },
      "execution_count": null,
      "outputs": []
    },
    {
      "cell_type": "code",
      "source": [
        "from datasets import load_dataset, load_metric"
      ],
      "metadata": {
        "id": "1Sw4o94GPIlz"
      },
      "execution_count": null,
      "outputs": []
    },
    {
      "cell_type": "code",
      "source": [
        "dataset = load_dataset(\"squad\")\n"
      ],
      "metadata": {
        "id": "T_4qxtEoPOW7",
        "colab": {
          "base_uri": "https://localhost:8080/"
        },
        "outputId": "a1f11ded-1c7f-48dd-bde1-ff72991d14e1"
      },
      "execution_count": null,
      "outputs": [
        {
          "output_type": "stream",
          "name": "stderr",
          "text": [
            "/usr/local/lib/python3.10/dist-packages/huggingface_hub/utils/_token.py:88: UserWarning: \n",
            "The secret `HF_TOKEN` does not exist in your Colab secrets.\n",
            "To authenticate with the Hugging Face Hub, create a token in your settings tab (https://huggingface.co/settings/tokens), set it as secret in your Google Colab and restart your session.\n",
            "You will be able to reuse this secret in all of your notebooks.\n",
            "Please note that authentication is recommended but still optional to access public models or datasets.\n",
            "  warnings.warn(\n"
          ]
        }
      ]
    },
    {
      "cell_type": "code",
      "source": [
        "traind = dataset['train'].shuffle(seed=42).select(range(int(len(dataset['train']) * 0.20)))\n",
        "validiationd = dataset['validation'].shuffle(seed=42).select(range(int(len(dataset['validation']) * 0.20)))\n"
      ],
      "metadata": {
        "id": "npuMHWVpEZyS"
      },
      "execution_count": null,
      "outputs": []
    },
    {
      "cell_type": "code",
      "source": [
        "\n",
        "def preprocess_function(examples):\n",
        "    # Adjust these tokens based on the specifics of your chosen model and task\n",
        "    inputs = [\"context: \" + doc for doc in examples['context']]\n",
        "    targets = [question for question in examples['question']]\n",
        "    model_inputs = tokenizer(inputs, max_length=512, truncation=True)\n",
        "\n",
        "    # Setup the tokenizer for targets\n",
        "    with tokenizer.as_target_tokenizer():\n",
        "        labels = tokenizer(targets, max_length=128, truncation=True, padding=\"max_length\")\n",
        "\n",
        "\n",
        "    model_inputs[\"labels\"] = labels[\"input_ids\"]\n",
        "    return model_inputs\n",
        "\n",
        "tokenizer = T5Tokenizer.from_pretrained('t5-base')\n",
        "traink = traind.map(preprocess_function, batched=True)\n",
        "validiatek = validiationd.map(preprocess_function, batched=True)\n",
        "\n"
      ],
      "metadata": {
        "colab": {
          "base_uri": "https://localhost:8080/"
        },
        "id": "3i0UMukmJQ_1",
        "outputId": "0e9698c8-2089-4800-d5ac-18d49bf7c6c9"
      },
      "execution_count": null,
      "outputs": [
        {
          "output_type": "stream",
          "name": "stderr",
          "text": [
            "You are using the default legacy behaviour of the <class 'transformers.models.t5.tokenization_t5.T5Tokenizer'>. This is expected, and simply means that the `legacy` (previous) behavior will be used so nothing changes for you. If you want to use the new behaviour, set `legacy=False`. This should only be set if you understand what it means, and thoroughly read the reason why this was added as explained in https://github.com/huggingface/transformers/pull/24565\n",
            "Special tokens have been added in the vocabulary, make sure the associated word embeddings are fine-tuned or trained.\n"
          ]
        }
      ]
    },
    {
      "cell_type": "code",
      "source": [
        "model = T5ForConditionalGeneration.from_pretrained('t5-base')\n"
      ],
      "metadata": {
        "id": "uYrXUiDnJgjZ"
      },
      "execution_count": null,
      "outputs": []
    },
    {
      "cell_type": "code",
      "source": [
        "traink"
      ],
      "metadata": {
        "id": "2_xHnaSFKz56",
        "colab": {
          "base_uri": "https://localhost:8080/"
        },
        "outputId": "71eb707a-1382-498b-d422-ec1602b093d6"
      },
      "execution_count": null,
      "outputs": [
        {
          "output_type": "execute_result",
          "data": {
            "text/plain": [
              "Dataset({\n",
              "    features: ['id', 'title', 'context', 'question', 'answers', 'input_ids', 'attention_mask', 'labels'],\n",
              "    num_rows: 17519\n",
              "})"
            ]
          },
          "metadata": {},
          "execution_count": 10
        }
      ]
    },
    {
      "cell_type": "code",
      "source": [
        "import pandas as pd\n",
        "# train_dataset = tokenized_datasets['train']\n",
        "train_df = traink.to_pandas()\n"
      ],
      "metadata": {
        "id": "CGHuUdvdLAhm"
      },
      "execution_count": null,
      "outputs": []
    },
    {
      "cell_type": "code",
      "source": [
        "train_df.head()"
      ],
      "metadata": {
        "colab": {
          "base_uri": "https://localhost:8080/",
          "height": 293
        },
        "id": "-g-5zMgQLb2g",
        "outputId": "47d792e8-2c48-4856-a53d-4d8a12e4ec31"
      },
      "execution_count": null,
      "outputs": [
        {
          "output_type": "execute_result",
          "data": {
            "text/plain": [
              "                         id                title  \\\n",
              "0  573173d8497a881900248f0c                Egypt   \n",
              "1  57277e815951b619008f8b52  Ann_Arbor,_Michigan   \n",
              "2  5727e2483acd2414000deef0          Rule_of_law   \n",
              "3  5728f5716aef0514001548cc              Samurai   \n",
              "4  572826002ca10214002d9f16  Group_(mathematics)   \n",
              "\n",
              "                                             context  \\\n",
              "0  The Pew Forum on Religion & Public Life ranks ...   \n",
              "1  The Ann Arbor Hands-On Museum is located in a ...   \n",
              "2  One important aspect of the rule-of-law initia...   \n",
              "3  In December 1547, Francis was in Malacca (Mala...   \n",
              "4  Groups are also applied in many other mathemat...   \n",
              "\n",
              "                                            question  \\\n",
              "0  What percentage of Egyptians polled support de...   \n",
              "1         Ann Arbor ranks 1st among what goods sold?   \n",
              "2  In developing countries, who makes most of the...   \n",
              "3    Who impressed Xavier by taking notes in church?   \n",
              "4  What represents elements of the fundamental gr...   \n",
              "\n",
              "                                             answers  \\\n",
              "0           {'text': ['84%'], 'answer_start': [468]}   \n",
              "1         {'text': ['books'], 'answer_start': [402]}   \n",
              "2  {'text': ['the executive'], 'answer_start': [6...   \n",
              "3        {'text': ['Anjiro'], 'answer_start': [160]}   \n",
              "4         {'text': ['loops'], 'answer_start': [489]}   \n",
              "\n",
              "                                           input_ids  \\\n",
              "0  [2625, 10, 37, 1276, 210, 5841, 30, 18182, 3, ...   \n",
              "1  [2625, 10, 37, 6206, 27560, 2263, 7, 18, 7638,...   \n",
              "2  [2625, 10, 555, 359, 2663, 13, 8, 3356, 18, 85...   \n",
              "3  [2625, 10, 86, 1882, 627, 4177, 6, 11065, 47, ...   \n",
              "4  [2625, 10, 1531, 7, 33, 92, 2930, 16, 186, 119...   \n",
              "\n",
              "                                      attention_mask  \\\n",
              "0  [1, 1, 1, 1, 1, 1, 1, 1, 1, 1, 1, 1, 1, 1, 1, ...   \n",
              "1  [1, 1, 1, 1, 1, 1, 1, 1, 1, 1, 1, 1, 1, 1, 1, ...   \n",
              "2  [1, 1, 1, 1, 1, 1, 1, 1, 1, 1, 1, 1, 1, 1, 1, ...   \n",
              "3  [1, 1, 1, 1, 1, 1, 1, 1, 1, 1, 1, 1, 1, 1, 1, ...   \n",
              "4  [1, 1, 1, 1, 1, 1, 1, 1, 1, 1, 1, 1, 1, 1, 1, ...   \n",
              "\n",
              "                                              labels  \n",
              "0  [363, 5294, 13, 16341, 7, 5492, 15, 26, 380, 1...  \n",
              "1  [6206, 27560, 13799, 209, 7, 17, 859, 125, 496...  \n",
              "2  [86, 2421, 1440, 6, 113, 656, 167, 13, 8, 2887...  \n",
              "3  [2645, 8686, 3, 4, 9, 5144, 57, 838, 3358, 16,...  \n",
              "4  [363, 5475, 2479, 13, 8, 4431, 563, 58, 1, 0, ...  "
            ],
            "text/html": [
              "\n",
              "  <div id=\"df-ce8ac904-e4fc-4f84-b256-57b09e25f1e0\" class=\"colab-df-container\">\n",
              "    <div>\n",
              "<style scoped>\n",
              "    .dataframe tbody tr th:only-of-type {\n",
              "        vertical-align: middle;\n",
              "    }\n",
              "\n",
              "    .dataframe tbody tr th {\n",
              "        vertical-align: top;\n",
              "    }\n",
              "\n",
              "    .dataframe thead th {\n",
              "        text-align: right;\n",
              "    }\n",
              "</style>\n",
              "<table border=\"1\" class=\"dataframe\">\n",
              "  <thead>\n",
              "    <tr style=\"text-align: right;\">\n",
              "      <th></th>\n",
              "      <th>id</th>\n",
              "      <th>title</th>\n",
              "      <th>context</th>\n",
              "      <th>question</th>\n",
              "      <th>answers</th>\n",
              "      <th>input_ids</th>\n",
              "      <th>attention_mask</th>\n",
              "      <th>labels</th>\n",
              "    </tr>\n",
              "  </thead>\n",
              "  <tbody>\n",
              "    <tr>\n",
              "      <th>0</th>\n",
              "      <td>573173d8497a881900248f0c</td>\n",
              "      <td>Egypt</td>\n",
              "      <td>The Pew Forum on Religion &amp; Public Life ranks ...</td>\n",
              "      <td>What percentage of Egyptians polled support de...</td>\n",
              "      <td>{'text': ['84%'], 'answer_start': [468]}</td>\n",
              "      <td>[2625, 10, 37, 1276, 210, 5841, 30, 18182, 3, ...</td>\n",
              "      <td>[1, 1, 1, 1, 1, 1, 1, 1, 1, 1, 1, 1, 1, 1, 1, ...</td>\n",
              "      <td>[363, 5294, 13, 16341, 7, 5492, 15, 26, 380, 1...</td>\n",
              "    </tr>\n",
              "    <tr>\n",
              "      <th>1</th>\n",
              "      <td>57277e815951b619008f8b52</td>\n",
              "      <td>Ann_Arbor,_Michigan</td>\n",
              "      <td>The Ann Arbor Hands-On Museum is located in a ...</td>\n",
              "      <td>Ann Arbor ranks 1st among what goods sold?</td>\n",
              "      <td>{'text': ['books'], 'answer_start': [402]}</td>\n",
              "      <td>[2625, 10, 37, 6206, 27560, 2263, 7, 18, 7638,...</td>\n",
              "      <td>[1, 1, 1, 1, 1, 1, 1, 1, 1, 1, 1, 1, 1, 1, 1, ...</td>\n",
              "      <td>[6206, 27560, 13799, 209, 7, 17, 859, 125, 496...</td>\n",
              "    </tr>\n",
              "    <tr>\n",
              "      <th>2</th>\n",
              "      <td>5727e2483acd2414000deef0</td>\n",
              "      <td>Rule_of_law</td>\n",
              "      <td>One important aspect of the rule-of-law initia...</td>\n",
              "      <td>In developing countries, who makes most of the...</td>\n",
              "      <td>{'text': ['the executive'], 'answer_start': [6...</td>\n",
              "      <td>[2625, 10, 555, 359, 2663, 13, 8, 3356, 18, 85...</td>\n",
              "      <td>[1, 1, 1, 1, 1, 1, 1, 1, 1, 1, 1, 1, 1, 1, 1, ...</td>\n",
              "      <td>[86, 2421, 1440, 6, 113, 656, 167, 13, 8, 2887...</td>\n",
              "    </tr>\n",
              "    <tr>\n",
              "      <th>3</th>\n",
              "      <td>5728f5716aef0514001548cc</td>\n",
              "      <td>Samurai</td>\n",
              "      <td>In December 1547, Francis was in Malacca (Mala...</td>\n",
              "      <td>Who impressed Xavier by taking notes in church?</td>\n",
              "      <td>{'text': ['Anjiro'], 'answer_start': [160]}</td>\n",
              "      <td>[2625, 10, 86, 1882, 627, 4177, 6, 11065, 47, ...</td>\n",
              "      <td>[1, 1, 1, 1, 1, 1, 1, 1, 1, 1, 1, 1, 1, 1, 1, ...</td>\n",
              "      <td>[2645, 8686, 3, 4, 9, 5144, 57, 838, 3358, 16,...</td>\n",
              "    </tr>\n",
              "    <tr>\n",
              "      <th>4</th>\n",
              "      <td>572826002ca10214002d9f16</td>\n",
              "      <td>Group_(mathematics)</td>\n",
              "      <td>Groups are also applied in many other mathemat...</td>\n",
              "      <td>What represents elements of the fundamental gr...</td>\n",
              "      <td>{'text': ['loops'], 'answer_start': [489]}</td>\n",
              "      <td>[2625, 10, 1531, 7, 33, 92, 2930, 16, 186, 119...</td>\n",
              "      <td>[1, 1, 1, 1, 1, 1, 1, 1, 1, 1, 1, 1, 1, 1, 1, ...</td>\n",
              "      <td>[363, 5475, 2479, 13, 8, 4431, 563, 58, 1, 0, ...</td>\n",
              "    </tr>\n",
              "  </tbody>\n",
              "</table>\n",
              "</div>\n",
              "    <div class=\"colab-df-buttons\">\n",
              "\n",
              "  <div class=\"colab-df-container\">\n",
              "    <button class=\"colab-df-convert\" onclick=\"convertToInteractive('df-ce8ac904-e4fc-4f84-b256-57b09e25f1e0')\"\n",
              "            title=\"Convert this dataframe to an interactive table.\"\n",
              "            style=\"display:none;\">\n",
              "\n",
              "  <svg xmlns=\"http://www.w3.org/2000/svg\" height=\"24px\" viewBox=\"0 -960 960 960\">\n",
              "    <path d=\"M120-120v-720h720v720H120Zm60-500h600v-160H180v160Zm220 220h160v-160H400v160Zm0 220h160v-160H400v160ZM180-400h160v-160H180v160Zm440 0h160v-160H620v160ZM180-180h160v-160H180v160Zm440 0h160v-160H620v160Z\"/>\n",
              "  </svg>\n",
              "    </button>\n",
              "\n",
              "  <style>\n",
              "    .colab-df-container {\n",
              "      display:flex;\n",
              "      gap: 12px;\n",
              "    }\n",
              "\n",
              "    .colab-df-convert {\n",
              "      background-color: #E8F0FE;\n",
              "      border: none;\n",
              "      border-radius: 50%;\n",
              "      cursor: pointer;\n",
              "      display: none;\n",
              "      fill: #1967D2;\n",
              "      height: 32px;\n",
              "      padding: 0 0 0 0;\n",
              "      width: 32px;\n",
              "    }\n",
              "\n",
              "    .colab-df-convert:hover {\n",
              "      background-color: #E2EBFA;\n",
              "      box-shadow: 0px 1px 2px rgba(60, 64, 67, 0.3), 0px 1px 3px 1px rgba(60, 64, 67, 0.15);\n",
              "      fill: #174EA6;\n",
              "    }\n",
              "\n",
              "    .colab-df-buttons div {\n",
              "      margin-bottom: 4px;\n",
              "    }\n",
              "\n",
              "    [theme=dark] .colab-df-convert {\n",
              "      background-color: #3B4455;\n",
              "      fill: #D2E3FC;\n",
              "    }\n",
              "\n",
              "    [theme=dark] .colab-df-convert:hover {\n",
              "      background-color: #434B5C;\n",
              "      box-shadow: 0px 1px 3px 1px rgba(0, 0, 0, 0.15);\n",
              "      filter: drop-shadow(0px 1px 2px rgba(0, 0, 0, 0.3));\n",
              "      fill: #FFFFFF;\n",
              "    }\n",
              "  </style>\n",
              "\n",
              "    <script>\n",
              "      const buttonEl =\n",
              "        document.querySelector('#df-ce8ac904-e4fc-4f84-b256-57b09e25f1e0 button.colab-df-convert');\n",
              "      buttonEl.style.display =\n",
              "        google.colab.kernel.accessAllowed ? 'block' : 'none';\n",
              "\n",
              "      async function convertToInteractive(key) {\n",
              "        const element = document.querySelector('#df-ce8ac904-e4fc-4f84-b256-57b09e25f1e0');\n",
              "        const dataTable =\n",
              "          await google.colab.kernel.invokeFunction('convertToInteractive',\n",
              "                                                    [key], {});\n",
              "        if (!dataTable) return;\n",
              "\n",
              "        const docLinkHtml = 'Like what you see? Visit the ' +\n",
              "          '<a target=\"_blank\" href=https://colab.research.google.com/notebooks/data_table.ipynb>data table notebook</a>'\n",
              "          + ' to learn more about interactive tables.';\n",
              "        element.innerHTML = '';\n",
              "        dataTable['output_type'] = 'display_data';\n",
              "        await google.colab.output.renderOutput(dataTable, element);\n",
              "        const docLink = document.createElement('div');\n",
              "        docLink.innerHTML = docLinkHtml;\n",
              "        element.appendChild(docLink);\n",
              "      }\n",
              "    </script>\n",
              "  </div>\n",
              "\n",
              "\n",
              "<div id=\"df-5e93069e-025d-4af7-8a29-e6c9288a7304\">\n",
              "  <button class=\"colab-df-quickchart\" onclick=\"quickchart('df-5e93069e-025d-4af7-8a29-e6c9288a7304')\"\n",
              "            title=\"Suggest charts\"\n",
              "            style=\"display:none;\">\n",
              "\n",
              "<svg xmlns=\"http://www.w3.org/2000/svg\" height=\"24px\"viewBox=\"0 0 24 24\"\n",
              "     width=\"24px\">\n",
              "    <g>\n",
              "        <path d=\"M19 3H5c-1.1 0-2 .9-2 2v14c0 1.1.9 2 2 2h14c1.1 0 2-.9 2-2V5c0-1.1-.9-2-2-2zM9 17H7v-7h2v7zm4 0h-2V7h2v10zm4 0h-2v-4h2v4z\"/>\n",
              "    </g>\n",
              "</svg>\n",
              "  </button>\n",
              "\n",
              "<style>\n",
              "  .colab-df-quickchart {\n",
              "      --bg-color: #E8F0FE;\n",
              "      --fill-color: #1967D2;\n",
              "      --hover-bg-color: #E2EBFA;\n",
              "      --hover-fill-color: #174EA6;\n",
              "      --disabled-fill-color: #AAA;\n",
              "      --disabled-bg-color: #DDD;\n",
              "  }\n",
              "\n",
              "  [theme=dark] .colab-df-quickchart {\n",
              "      --bg-color: #3B4455;\n",
              "      --fill-color: #D2E3FC;\n",
              "      --hover-bg-color: #434B5C;\n",
              "      --hover-fill-color: #FFFFFF;\n",
              "      --disabled-bg-color: #3B4455;\n",
              "      --disabled-fill-color: #666;\n",
              "  }\n",
              "\n",
              "  .colab-df-quickchart {\n",
              "    background-color: var(--bg-color);\n",
              "    border: none;\n",
              "    border-radius: 50%;\n",
              "    cursor: pointer;\n",
              "    display: none;\n",
              "    fill: var(--fill-color);\n",
              "    height: 32px;\n",
              "    padding: 0;\n",
              "    width: 32px;\n",
              "  }\n",
              "\n",
              "  .colab-df-quickchart:hover {\n",
              "    background-color: var(--hover-bg-color);\n",
              "    box-shadow: 0 1px 2px rgba(60, 64, 67, 0.3), 0 1px 3px 1px rgba(60, 64, 67, 0.15);\n",
              "    fill: var(--button-hover-fill-color);\n",
              "  }\n",
              "\n",
              "  .colab-df-quickchart-complete:disabled,\n",
              "  .colab-df-quickchart-complete:disabled:hover {\n",
              "    background-color: var(--disabled-bg-color);\n",
              "    fill: var(--disabled-fill-color);\n",
              "    box-shadow: none;\n",
              "  }\n",
              "\n",
              "  .colab-df-spinner {\n",
              "    border: 2px solid var(--fill-color);\n",
              "    border-color: transparent;\n",
              "    border-bottom-color: var(--fill-color);\n",
              "    animation:\n",
              "      spin 1s steps(1) infinite;\n",
              "  }\n",
              "\n",
              "  @keyframes spin {\n",
              "    0% {\n",
              "      border-color: transparent;\n",
              "      border-bottom-color: var(--fill-color);\n",
              "      border-left-color: var(--fill-color);\n",
              "    }\n",
              "    20% {\n",
              "      border-color: transparent;\n",
              "      border-left-color: var(--fill-color);\n",
              "      border-top-color: var(--fill-color);\n",
              "    }\n",
              "    30% {\n",
              "      border-color: transparent;\n",
              "      border-left-color: var(--fill-color);\n",
              "      border-top-color: var(--fill-color);\n",
              "      border-right-color: var(--fill-color);\n",
              "    }\n",
              "    40% {\n",
              "      border-color: transparent;\n",
              "      border-right-color: var(--fill-color);\n",
              "      border-top-color: var(--fill-color);\n",
              "    }\n",
              "    60% {\n",
              "      border-color: transparent;\n",
              "      border-right-color: var(--fill-color);\n",
              "    }\n",
              "    80% {\n",
              "      border-color: transparent;\n",
              "      border-right-color: var(--fill-color);\n",
              "      border-bottom-color: var(--fill-color);\n",
              "    }\n",
              "    90% {\n",
              "      border-color: transparent;\n",
              "      border-bottom-color: var(--fill-color);\n",
              "    }\n",
              "  }\n",
              "</style>\n",
              "\n",
              "  <script>\n",
              "    async function quickchart(key) {\n",
              "      const quickchartButtonEl =\n",
              "        document.querySelector('#' + key + ' button');\n",
              "      quickchartButtonEl.disabled = true;  // To prevent multiple clicks.\n",
              "      quickchartButtonEl.classList.add('colab-df-spinner');\n",
              "      try {\n",
              "        const charts = await google.colab.kernel.invokeFunction(\n",
              "            'suggestCharts', [key], {});\n",
              "      } catch (error) {\n",
              "        console.error('Error during call to suggestCharts:', error);\n",
              "      }\n",
              "      quickchartButtonEl.classList.remove('colab-df-spinner');\n",
              "      quickchartButtonEl.classList.add('colab-df-quickchart-complete');\n",
              "    }\n",
              "    (() => {\n",
              "      let quickchartButtonEl =\n",
              "        document.querySelector('#df-5e93069e-025d-4af7-8a29-e6c9288a7304 button');\n",
              "      quickchartButtonEl.style.display =\n",
              "        google.colab.kernel.accessAllowed ? 'block' : 'none';\n",
              "    })();\n",
              "  </script>\n",
              "</div>\n",
              "\n",
              "    </div>\n",
              "  </div>\n"
            ],
            "application/vnd.google.colaboratory.intrinsic+json": {
              "type": "dataframe",
              "variable_name": "train_df",
              "summary": "{\n  \"name\": \"train_df\",\n  \"rows\": 17519,\n  \"fields\": [\n    {\n      \"column\": \"id\",\n      \"properties\": {\n        \"dtype\": \"string\",\n        \"num_unique_values\": 17519,\n        \"samples\": [\n          \"5726e7c7708984140094d56c\",\n          \"56f72a1d3d8e2e1400e373c0\",\n          \"56dfc6087aa994140058e19b\"\n        ],\n        \"semantic_type\": \"\",\n        \"description\": \"\"\n      }\n    },\n    {\n      \"column\": \"title\",\n      \"properties\": {\n        \"dtype\": \"category\",\n        \"num_unique_values\": 442,\n        \"samples\": [\n          \"Diarrhea\",\n          \"Beer\",\n          \"Gothic_architecture\"\n        ],\n        \"semantic_type\": \"\",\n        \"description\": \"\"\n      }\n    },\n    {\n      \"column\": \"context\",\n      \"properties\": {\n        \"dtype\": \"string\",\n        \"num_unique_values\": 11840,\n        \"samples\": [\n          \"New Haven's best-known geographic features are its large deep harbor, and two reddish basalt trap rock ridges which rise to the northeast and northwest of the city core. These trap rocks are known respectively as East Rock and West Rock, and both serve as extensive parks. West Rock has been tunneled through to make way for the east-west passage of the Wilbur Cross Parkway (the only highway tunnel through a natural obstacle in Connecticut), and once served as the hideout of the \\\"Regicides\\\" (see: Regicides Trail). Most New Haveners refer to these men as \\\"The Three Judges\\\". East Rock features the prominent Soldiers and Sailors war monument on its peak as well as the \\\"Great/Giant Steps\\\" which run up the rock's cliffside.\",\n          \"St. John's is one of the oldest settlements in North America, with year-round settlement beginning sometime after 1630 and seasonal habitation long before that. It is not, however, the oldest surviving English settlement in North America or Canada, having been preceded by the Cuper's Cove colony at Cupids, founded in 1610, and the Bristol's Hope colony at Harbour Grace, founded in 1618. In fact, although English fishermen had begun setting up seasonal camps in Newfoundland in the 16th Century, they were expressly forbidden by the British government, at the urging of the West Country fishing industry, from establishing permanent settlements along the English controlled coast, hence the town of St. John's was not established as a permanent community until after the 1630s at the earliest. Other permanent English settlements in the Americas that predate St. John's include: St. George's, Bermuda (1612) and Jamestown, Virginia (1607).\",\n          \"In particle physics, this inequality permits a qualitative understanding of virtual particles which carry momentum, exchange by which and with real particles, is responsible for the creation of all known fundamental forces (more accurately known as fundamental interactions). Virtual photons (which are simply lowest quantum mechanical energy state of photons) are also responsible for electrostatic interaction between electric charges (which results in Coulomb law), for spontaneous radiative decay of exited atomic and nuclear states, for the Casimir force, for van der Waals bond forces and some other observable phenomena.\"\n        ],\n        \"semantic_type\": \"\",\n        \"description\": \"\"\n      }\n    },\n    {\n      \"column\": \"question\",\n      \"properties\": {\n        \"dtype\": \"string\",\n        \"num_unique_values\": 17506,\n        \"samples\": [\n          \"Having a diverse workplace allows for employers to do what?\",\n          \"What are two things that a computer always has?\",\n          \"What was the original target age for the Digimon series?\"\n        ],\n        \"semantic_type\": \"\",\n        \"description\": \"\"\n      }\n    },\n    {\n      \"column\": \"answers\",\n      \"properties\": {\n        \"dtype\": \"object\",\n        \"semantic_type\": \"\",\n        \"description\": \"\"\n      }\n    },\n    {\n      \"column\": \"input_ids\",\n      \"properties\": {\n        \"dtype\": \"object\",\n        \"semantic_type\": \"\",\n        \"description\": \"\"\n      }\n    },\n    {\n      \"column\": \"attention_mask\",\n      \"properties\": {\n        \"dtype\": \"object\",\n        \"semantic_type\": \"\",\n        \"description\": \"\"\n      }\n    },\n    {\n      \"column\": \"labels\",\n      \"properties\": {\n        \"dtype\": \"object\",\n        \"semantic_type\": \"\",\n        \"description\": \"\"\n      }\n    }\n  ]\n}"
            }
          },
          "metadata": {},
          "execution_count": 12
        }
      ]
    },
    {
      "cell_type": "code",
      "source": [
        "# If memory pugena bhane yesto garne\n",
        "\"\"\"\n",
        "\n",
        "import gc\n",
        "import torch\n",
        "\n",
        "torch.cuda.empty_cache()  # Clear GPU cache\n",
        "gc.collect()  # Garbage collect on CPU and GPU memory\n",
        "\n",
        "# Access shared embedding layer\n",
        "shared_embeddings = model.shared\n",
        "# Freeze the shared embeddings\n",
        "for param in model.shared.parameters():\n",
        "    param.requires_grad = False\n",
        "\n",
        "# Additionally, you may want to freeze the encoder and decoder embedding layers specifically if they exist separately:\n",
        "if hasattr(model.encoder, 'embed_tokens'):\n",
        "    for param in model.encoder.embed_tokens.parameters():\n",
        "        param.requires_grad = False\n",
        "\n",
        "if hasattr(model.decoder, 'embed_tokens'):\n",
        "    for param in model.decoder.embed_tokens.parameters():\n",
        "        param.requires_grad = False\n",
        "\n",
        "\n",
        "\"\"\"\n"
      ],
      "metadata": {
        "id": "uz1krejHRXGo"
      },
      "execution_count": null,
      "outputs": []
    },
    {
      "cell_type": "code",
      "source": [
        "training_args = TrainingArguments(\n",
        "    #  fp16=True,  # memory napugera float point adjust garna ko laagi\n",
        "    output_dir=\"./e2e\",          # The output directory\n",
        "    evaluation_strategy=\"epoch\",\n",
        "    learning_rate=2e-5,\n",
        "    per_device_train_batch_size=8,\n",
        "    per_device_eval_batch_size=8,\n",
        "    num_train_epochs=3,\n",
        "    weight_decay=0.01,\n",
        "    save_strategy=\"epoch\",\n",
        "    disable_tqdm=False,\n",
        "    push_to_hub=False,\n",
        "    gradient_accumulation_steps = 2\n",
        ")\n",
        "\n",
        "trainer = Trainer(\n",
        "    model=model,\n",
        "    args=training_args,\n",
        "    train_dataset=traink,\n",
        "    eval_dataset=validiatek,\n",
        "    tokenizer=tokenizer\n",
        ")\n"
      ],
      "metadata": {
        "colab": {
          "base_uri": "https://localhost:8080/"
        },
        "id": "6qiGhaYoJhwP",
        "outputId": "831cc34f-c887-4074-e94f-89264cf50c72"
      },
      "execution_count": null,
      "outputs": [
        {
          "output_type": "stream",
          "name": "stderr",
          "text": [
            "/usr/local/lib/python3.10/dist-packages/accelerate/accelerator.py:436: FutureWarning: Passing the following arguments to `Accelerator` is deprecated and will be removed in version 1.0 of Accelerate: dict_keys(['dispatch_batches', 'split_batches', 'even_batches', 'use_seedable_sampler']). Please pass an `accelerate.DataLoaderConfiguration` instead: \n",
            "dataloader_config = DataLoaderConfiguration(dispatch_batches=None, split_batches=False, even_batches=True, use_seedable_sampler=True)\n",
            "  warnings.warn(\n"
          ]
        }
      ]
    },
    {
      "cell_type": "code",
      "source": [
        "\n",
        "# for steps anusar validiation loss plot garna\n",
        "\"\"\"\n",
        "from transformers import TrainingArguments, Trainer\n",
        "\n",
        "training_args = TrainingArguments(\n",
        "    output_dir=\"./e2e\",                # The output directory\n",
        "    evaluation_strategy=\"steps\",       # Change from 'epoch' to 'steps' for evaluation\n",
        "    eval_steps=500,                    # Evaluate the model every 500 steps\n",
        "    learning_rate=2e-5,\n",
        "    per_device_train_batch_size=8,\n",
        "    per_device_eval_batch_size=8,\n",
        "    num_train_epochs=3,\n",
        "    weight_decay=0.01,\n",
        "    save_strategy=\"steps\",             # Change from 'epoch' to 'steps' for saving\n",
        "    save_steps=500,                    # Save the model every 500 steps\n",
        "    disable_tqdm=False,\n",
        "    push_to_hub=False,\n",
        "    gradient_accumulation_steps=2,\n",
        "       # fp16=True,                       # Enable mixed precision training\n",
        ")\n",
        "\n",
        "trainer = Trainer(\n",
        "    model=model,\n",
        "    args=training_args,\n",
        "    train_dataset=traink,\n",
        "    eval_dataset=validiatek,\n",
        "    tokenizer=tokenizer\n",
        ")\n",
        "\"\"\""
      ],
      "metadata": {
        "id": "1p-ExYJyruwW"
      },
      "execution_count": null,
      "outputs": []
    },
    {
      "cell_type": "code",
      "source": [
        "trainer.train()\n"
      ],
      "metadata": {
        "id": "uut1PKNKJi-b",
        "colab": {
          "base_uri": "https://localhost:8080/",
          "height": 204
        },
        "outputId": "259c7e0d-dafa-4754-9e3d-7599ef497870"
      },
      "execution_count": null,
      "outputs": [
        {
          "output_type": "display_data",
          "data": {
            "text/plain": [
              "<IPython.core.display.HTML object>"
            ],
            "text/html": [
              "\n",
              "    <div>\n",
              "      \n",
              "      <progress value='3285' max='3285' style='width:300px; height:20px; vertical-align: middle;'></progress>\n",
              "      [3285/3285 1:32:52, Epoch 3/3]\n",
              "    </div>\n",
              "    <table border=\"1\" class=\"dataframe\">\n",
              "  <thead>\n",
              " <tr style=\"text-align: left;\">\n",
              "      <th>Epoch</th>\n",
              "      <th>Training Loss</th>\n",
              "      <th>Validation Loss</th>\n",
              "    </tr>\n",
              "  </thead>\n",
              "  <tbody>\n",
              "    <tr>\n",
              "      <td>1</td>\n",
              "      <td>0.231800</td>\n",
              "      <td>0.208564</td>\n",
              "    </tr>\n",
              "    <tr>\n",
              "      <td>2</td>\n",
              "      <td>0.216400</td>\n",
              "      <td>0.203196</td>\n",
              "    </tr>\n",
              "    <tr>\n",
              "      <td>3</td>\n",
              "      <td>0.210200</td>\n",
              "      <td>0.201809</td>\n",
              "    </tr>\n",
              "  </tbody>\n",
              "</table><p>"
            ]
          },
          "metadata": {}
        },
        {
          "output_type": "execute_result",
          "data": {
            "text/plain": [
              "TrainOutput(global_step=3285, training_loss=0.3273719137299188, metrics={'train_runtime': 5576.4599, 'train_samples_per_second': 9.425, 'train_steps_per_second': 0.589, 'total_flos': 1.85517594114048e+16, 'train_loss': 0.3273719137299188, 'epoch': 3.0})"
            ]
          },
          "metadata": {},
          "execution_count": 15
        }
      ]
    },
    {
      "cell_type": "code",
      "source": [
        "# eval_results = trainer.evaluate()\n",
        "# print(eval_results)"
      ],
      "metadata": {
        "id": "8IgxOPQAutA9"
      },
      "execution_count": null,
      "outputs": []
    },
    {
      "cell_type": "code",
      "source": [
        "import matplotlib.pyplot as plt\n",
        "epochs = [1, 2, 3]\n",
        "training_loss = [0.231800, 0.216400, 0.210200]\n",
        "validation_loss = [0.208564, 0.203196, 0.201809]\n",
        "\n",
        "plt.figure(figsize=(8, 5))\n",
        "plt.plot(epochs, training_loss, label='Training Loss', marker='o')\n",
        "plt.plot(epochs, validation_loss, label='Validation Loss', marker='o')\n",
        "plt.title('Training and Validation Loss by Epoch')\n",
        "plt.xlabel('Epoch')\n",
        "plt.ylabel('Loss')\n",
        "plt.legend()\n",
        "plt.show()\n"
      ],
      "metadata": {
        "colab": {
          "base_uri": "https://localhost:8080/",
          "height": 487
        },
        "id": "DLRsyyH_d2Tt",
        "outputId": "77a82dd8-9f2d-47bf-dff9-83fc76db727b"
      },
      "execution_count": null,
      "outputs": [
        {
          "output_type": "display_data",
          "data": {
            "text/plain": [
              "<Figure size 800x500 with 1 Axes>"
            ],
            "image/png": "[encoded data removed]"
          },
          "metadata": {}
        }
      ]
    },
    {
      "cell_type": "code",
      "source": [
        "import os\n",
        "model_path = \"/content/gdrive/My Drive/e2e\"\n",
        "if not os.path.exists(model_path):\n",
        "    os.makedirs(model_path)\n"
      ],
      "metadata": {
        "id": "HPJqvdgtedW4"
      },
      "execution_count": null,
      "outputs": []
    },
    {
      "cell_type": "code",
      "source": [
        "\n",
        "model.save_pretrained(model_path)\n",
        "tokenizer.save_pretrained(model_path)\n"
      ],
      "metadata": {
        "id": "2SreRvp_JkJJ",
        "colab": {
          "base_uri": "https://localhost:8080/"
        },
        "outputId": "d6394595-69fb-439d-c6ea-9687451f7537"
      },
      "execution_count": null,
      "outputs": [
        {
          "output_type": "execute_result",
          "data": {
            "text/plain": [
              "('/content/gdrive/My Drive/e2e/tokenizer_config.json',\n",
              " '/content/gdrive/My Drive/e2e/special_tokens_map.json',\n",
              " '/content/gdrive/My Drive/e2e/spiece.model',\n",
              " '/content/gdrive/My Drive/e2e/added_tokens.json')"
            ]
          },
          "metadata": {},
          "execution_count": 37
        }
      ]
    },
    {
      "cell_type": "code",
      "source": [
        "!ls /content/gdrive/MyDrive/e2e\n"
      ],
      "metadata": {
        "colab": {
          "base_uri": "https://localhost:8080/"
        },
        "id": "mwENKz-peRmF",
        "outputId": "d52e4329-2d54-4034-91e2-6ed76288adad"
      },
      "execution_count": null,
      "outputs": [
        {
          "output_type": "stream",
          "name": "stdout",
          "text": [
            "added_tokens.json  generation_config.json  special_tokens_map.json  tokenizer_config.json\n",
            "config.json\t   model.safetensors\t   spiece.model\n"
          ]
        }
      ]
    },
    {
      "cell_type": "code",
      "source": [
        "import torch\n",
        "from transformers import AutoTokenizer, AutoModelForSeq2SeqLM\n",
        "\n",
        "model_path = '/content/gdrive/My Drive/e2e/'\n",
        "tokenizer = AutoTokenizer.from_pretrained(model_path)\n",
        "model = AutoModelForSeq2SeqLM.from_pretrained(model_path).to(torch.device('cuda' if torch.cuda.is_available() else 'cpu'))\n"
      ],
      "metadata": {
        "colab": {
          "base_uri": "https://localhost:8080/"
        },
        "id": "TVstqWRmif8v",
        "outputId": "5b602ad9-aee9-4e41-f595-edef6e407475"
      },
      "execution_count": null,
      "outputs": [
        {
          "output_type": "stream",
          "name": "stderr",
          "text": [
            "Special tokens have been added in the vocabulary, make sure the associated word embeddings are fine-tuned or trained.\n",
            "You set `add_prefix_space`. The tokenizer needs to be converted from the slow tokenizers\n"
          ]
        }
      ]
    },
    {
      "cell_type": "code",
      "source": [
        "# !pip install rouge_score evaluate\n"
      ],
      "metadata": {
        "id": "4kwWzfREe1FP"
      },
      "execution_count": null,
      "outputs": []
    },
    {
      "cell_type": "code",
      "source": [
        "# !git lfs install\n",
        "# !huggingface-cli login\n",
        "# !git config --global user.email \"dhakalmahima18@gmail.com\"\n",
        "# !git config --global user.name \"mahima\"\n",
        "# ! cd /content/gdrive/e2e/\n",
        "# ! git init\n",
        "# ! git lfs track \"*.bin\"  # Track large files with LFS\n",
        "# ! git add .gitattributes\n",
        "# ! git add .\n",
        "# ! git commit -m \"Initial model commit\"\n",
        "# ! git remote add origin https://huggingface.co/mahima18/qat5\n",
        "# ! git push origin main\n",
        "\n"
      ],
      "metadata": {
        "colab": {
          "base_uri": "https://localhost:8080/"
        },
        "id": "mtLbwZ6vgihQ",
        "outputId": "e269f816-a384-4cb4-8c98-6213cb39b63f"
      },
      "execution_count": null,
      "outputs": [
        {
          "output_type": "stream",
          "name": "stdout",
          "text": [
            "Git LFS initialized.\n"
          ]
        }
      ]
    },
    {
      "cell_type": "code",
      "source": [
        "def generate_question(text, model=model, tokenizer=tokenizer, max_length=64):    # Encode the text input ensuring padding and truncation\n",
        "    input_ids = tokenizer.encode(\"context: \" + text, return_tensors=\"pt\", max_length=512, padding=\"max_length\", truncation=True).to(model.device)\n",
        "    output_ids = model.generate(input_ids, max_length=max_length, num_beams=4, early_stopping=True)\n",
        "\n",
        "    # Decode the output to text\n",
        "    question = tokenizer.decode(output_ids[0], skip_special_tokens=True)\n",
        "    print(question)\n",
        "\n",
        "\n"
      ],
      "metadata": {
        "id": "4liq9SyXMbzn"
      },
      "execution_count": null,
      "outputs": []
    },
    {
      "cell_type": "code",
      "source": [
        "\n",
        "text = \"Albert Einstein was a German-born theoretical physicist who developed the theory of relativity, one of the two pillars of modern physics. His work is also known for its influence on the philosophy of science.\"\n",
        "\n",
        "text2=\"\"\"\n",
        "Mount Everest[3] is Earth's highest mountain above sea level, located in the Mahalangur Himal sub-range of the Himalayas. The China–Nepal border runs across its summit point.[4] Its elevation (snow height) of 8,848.86 m (29,031 ft 8+1⁄2 in) was most recently established in 2020 by the Chinese and Nepali authorities.[5][6]\n",
        "\n",
        "Mount Everest attracts many climbers, including highly experienced mountaineers. There are two main climbing routes, one approaching the summit from the southeast in Nepal (known as the \"standard route\") and the other from the north in Tibet. While not posing substantial technical climbing challenges on the standard route, Everest presents dangers such as altitude sickness, weather, and wind, as well as hazards from avalanches and the Khumbu Icefall. As of November 2022, 310 people have died on Everest. Over 200 bodies remain on the mountain and have not been removed due to the dangerous conditions.[7][8]\n",
        "\n",
        "The first recorded efforts to reach Everest's summit were made by British mountaineers. As Nepal did not allow foreigners to enter the country at the time, the British made several attempts on the north ridge route from the Tibetan side. After the first reconnaissance expedition by the British in 1921 reached 7,000 m (22,970 ft) on the North Col, the 1922 expedition pushed the north ridge route up to 8,320 m (27,300 ft), marking the first time a human had climbed above 8,000 m (26,247 ft). The 1924 expedition resulted in one of the greatest mysteries on Everest to this day: George Mallory and Andrew Irvine made a final summit attempt on 8 June but never returned, sparking debate as to whether they were the first to reach the top. Tenzing Norgay and Edmund Hillary made the first documented ascent of Everest in 1953, using the southeast ridge route. Norgay had reached 8,595 m (28,199 ft) the previous year as a member of the 1952 Swiss expedition. The Chinese mountaineering team of Wang Fuzhou, Gonpo, and Qu Yinhua made the first reported ascent of the peak from the north ridge on 25 May 1960.[9]\"\"\"\n",
        "\n",
        "t=\"mahima is fond of python. she like programming.it is her hobby.python is very famous\"\n",
        "\n",
        "generate_question(t)\n",
        "\n"
      ],
      "metadata": {
        "id": "GjZLzdQaMg8f",
        "colab": {
          "base_uri": "https://localhost:8080/"
        },
        "outputId": "fa5be8ce-57ee-4c2b-94e3-1d08e428d276"
      },
      "execution_count": null,
      "outputs": [
        {
          "output_type": "stream",
          "name": "stdout",
          "text": [
            "What is mahima's hobby?\n"
          ]
        }
      ]
    },
    {
      "cell_type": "code",
      "source": [
        "too=\"\"\"\n",
        "The first recorded efforts to reach Everest's summit were made by British mountaineers. As Nepal did not allow foreigners to enter the country at the time, the British made several attempts on the north ridge route from the Tibetan side. After the first reconnaissance expedition by the British in 1921 reached 7,000 m (22,970 ft) on the North Col, the 1922 expedition pushed the north ridge route up to 8,320 m (27,300 ft), marking the first time a human had climbed above 8,000 m (26,247 ft). The 1924 expedition resulted in one of the greatest mysteries on Everest to this day: George Mallory and Andrew Irvine made a final summit attempt on 8 June but never returned, sparking debate as to whether they were the first to reach the top. Tenzing Norgay and Edmund Hillary made the first documented ascent of Everest in 1953, using the southeast ridge route. Norgay had reached 8,595 m (28,199 ft) the previous year as a member of the 1952 Swiss expedition. The Chinese mountaineering team of Wang Fuzhou, Gonpo, and Qu Yinhua made the first reported ascent of the peak from the north ridge on 25 May 1960.[9]\"\"\"\n",
        "\n",
        "generate_question(too)\n"
      ],
      "metadata": {
        "colab": {
          "base_uri": "https://localhost:8080/"
        },
        "id": "mCs8aHPykm2Q",
        "outputId": "d22327a4-03a4-4914-d38d-5b07fa31e7b9"
      },
      "execution_count": null,
      "outputs": [
        {
          "output_type": "stream",
          "name": "stdout",
          "text": [
            "Who made the first recorded ascent of Everest in 1953?\n"
          ]
        }
      ]
    },
    {
      "cell_type": "code",
      "source": [],
      "metadata": {
        "id": "DA1Ml9k7uCaD"
      },
      "execution_count": null,
      "outputs": []
    }
  ]
}